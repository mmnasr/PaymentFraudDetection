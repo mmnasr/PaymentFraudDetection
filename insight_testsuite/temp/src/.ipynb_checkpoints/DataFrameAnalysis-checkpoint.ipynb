{
 "cells": [
  {
   "cell_type": "code",
   "execution_count": 1,
   "metadata": {
    "collapsed": true
   },
   "outputs": [],
   "source": [
    "import pandas as pd"
   ]
  },
  {
   "cell_type": "code",
   "execution_count": 2,
   "metadata": {
    "collapsed": false
   },
   "outputs": [
    {
     "data": {
      "text/html": [
       "<div>\n",
       "<table border=\"1\" class=\"dataframe\">\n",
       "  <thead>\n",
       "    <tr style=\"text-align: right;\">\n",
       "      <th></th>\n",
       "      <th>id1</th>\n",
       "      <th>id2</th>\n",
       "      <th>amount</th>\n",
       "    </tr>\n",
       "  </thead>\n",
       "  <tbody>\n",
       "    <tr>\n",
       "      <th>0</th>\n",
       "      <td>52575</td>\n",
       "      <td>1120</td>\n",
       "      <td>25.32</td>\n",
       "    </tr>\n",
       "    <tr>\n",
       "      <th>1</th>\n",
       "      <td>47424</td>\n",
       "      <td>5995</td>\n",
       "      <td>19.45</td>\n",
       "    </tr>\n",
       "    <tr>\n",
       "      <th>2</th>\n",
       "      <td>76352</td>\n",
       "      <td>64866</td>\n",
       "      <td>14.99</td>\n",
       "    </tr>\n",
       "    <tr>\n",
       "      <th>3</th>\n",
       "      <td>20449</td>\n",
       "      <td>1552</td>\n",
       "      <td>13.48</td>\n",
       "    </tr>\n",
       "    <tr>\n",
       "      <th>4</th>\n",
       "      <td>48676</td>\n",
       "      <td>19395</td>\n",
       "      <td>29.94</td>\n",
       "    </tr>\n",
       "  </tbody>\n",
       "</table>\n",
       "</div>"
      ],
      "text/plain": [
       "     id1    id2  amount\n",
       "0  52575   1120   25.32\n",
       "1  47424   5995   19.45\n",
       "2  76352  64866   14.99\n",
       "3  20449   1552   13.48\n",
       "4  48676  19395   29.94"
      ]
     },
     "execution_count": 2,
     "metadata": {},
     "output_type": "execute_result"
    }
   ],
   "source": [
    "fname = \"../paymo_input/batch_payment_polished.csv\"\n",
    "colnames = ['id1', 'id2', 'amount']\n",
    "# df = pd.read_csv(fname, parse_dates=['time'], skipinitialspace=True, delimiter=' ', usecols=colnames)\n",
    "df = pd.read_csv(fname, skipinitialspace=True, usecols=colnames)\n",
    "df.head()    "
   ]
  },
  {
   "cell_type": "code",
   "execution_count": 11,
   "metadata": {
    "collapsed": false
   },
   "outputs": [
    {
     "data": {
      "text/plain": [
       "80606"
      ]
     },
     "execution_count": 11,
     "metadata": {},
     "output_type": "execute_result"
    }
   ],
   "source": [
    "df['id1'].max()"
   ]
  },
  {
   "cell_type": "code",
   "execution_count": 8,
   "metadata": {
    "collapsed": false
   },
   "outputs": [
    {
     "data": {
      "text/plain": [
       "80538"
      ]
     },
     "execution_count": 8,
     "metadata": {},
     "output_type": "execute_result"
    }
   ],
   "source": [
    "len(df['id1'].unique())"
   ]
  },
  {
   "cell_type": "code",
   "execution_count": 3,
   "metadata": {
    "collapsed": false
   },
   "outputs": [
    {
     "data": {
      "text/html": [
       "<div>\n",
       "<table border=\"1\" class=\"dataframe\">\n",
       "  <thead>\n",
       "    <tr style=\"text-align: right;\">\n",
       "      <th></th>\n",
       "      <th>id1</th>\n",
       "      <th>id2</th>\n",
       "      <th>amount</th>\n",
       "    </tr>\n",
       "  </thead>\n",
       "  <tbody>\n",
       "    <tr>\n",
       "      <th>0</th>\n",
       "      <td>49466</td>\n",
       "      <td>6989</td>\n",
       "      <td>23.74</td>\n",
       "    </tr>\n",
       "    <tr>\n",
       "      <th>1</th>\n",
       "      <td>52349</td>\n",
       "      <td>8552</td>\n",
       "      <td>37.10</td>\n",
       "    </tr>\n",
       "    <tr>\n",
       "      <th>2</th>\n",
       "      <td>32639</td>\n",
       "      <td>2562</td>\n",
       "      <td>18.68</td>\n",
       "    </tr>\n",
       "    <tr>\n",
       "      <th>3</th>\n",
       "      <td>15381</td>\n",
       "      <td>13167</td>\n",
       "      <td>20.92</td>\n",
       "    </tr>\n",
       "    <tr>\n",
       "      <th>4</th>\n",
       "      <td>17052</td>\n",
       "      <td>6289</td>\n",
       "      <td>39.09</td>\n",
       "    </tr>\n",
       "  </tbody>\n",
       "</table>\n",
       "</div>"
      ],
      "text/plain": [
       "     id1    id2  amount\n",
       "0  49466   6989   23.74\n",
       "1  52349   8552   37.10\n",
       "2  32639   2562   18.68\n",
       "3  15381  13167   20.92\n",
       "4  17052   6289   39.09"
      ]
     },
     "execution_count": 3,
     "metadata": {},
     "output_type": "execute_result"
    }
   ],
   "source": [
    "fname = \"../paymo_input/batch_payment_polished.csv\"\n",
    "colnames = ['id1', 'id2', 'amount']\n",
    "# df = pd.read_csv(fname, parse_dates=['time'], skipinitialspace=True, delimiter=' ', usecols=colnames)\n",
    "dp = pd.read_csv(fname, skipinitialspace=True, usecols=colnames)\n",
    "dp.head()    "
   ]
  },
  {
   "cell_type": "code",
   "execution_count": 39,
   "metadata": {
    "collapsed": false
   },
   "outputs": [],
   "source": [
    "id1s = set(df['id1'].unique())\n",
    "id2s = set(df['id2'].unique())\n",
    "id10 = set(dp['id1'].unique())\n",
    "id20 = set(dp['id2'].unique())\n",
    "ids = id1s.union(id2s)\n",
    "id0 = id10.union(id20)\n",
    "diff = ids.difference(id0)"
   ]
  },
  {
   "cell_type": "code",
   "execution_count": 42,
   "metadata": {
    "collapsed": false
   },
   "outputs": [
    {
     "data": {
      "text/plain": [
       "80612"
      ]
     },
     "execution_count": 42,
     "metadata": {},
     "output_type": "execute_result"
    }
   ],
   "source": [
    "len(ids)"
   ]
  },
  {
   "cell_type": "code",
   "execution_count": 43,
   "metadata": {
    "collapsed": false
   },
   "outputs": [
    {
     "data": {
      "text/plain": [
       "77360"
      ]
     },
     "execution_count": 43,
     "metadata": {},
     "output_type": "execute_result"
    }
   ],
   "source": [
    "len(id0)"
   ]
  },
  {
   "cell_type": "code",
   "execution_count": 44,
   "metadata": {
    "collapsed": false
   },
   "outputs": [
    {
     "data": {
      "text/plain": [
       "80611"
      ]
     },
     "execution_count": 44,
     "metadata": {},
     "output_type": "execute_result"
    }
   ],
   "source": [
    "max(ids)"
   ]
  },
  {
   "cell_type": "code",
   "execution_count": 45,
   "metadata": {
    "collapsed": false
   },
   "outputs": [
    {
     "data": {
      "text/plain": [
       "0"
      ]
     },
     "execution_count": 45,
     "metadata": {},
     "output_type": "execute_result"
    }
   ],
   "source": [
    "min(ids)"
   ]
  },
  {
   "cell_type": "code",
   "execution_count": 46,
   "metadata": {
    "collapsed": false
   },
   "outputs": [
    {
     "data": {
      "text/plain": [
       "77359"
      ]
     },
     "execution_count": 46,
     "metadata": {},
     "output_type": "execute_result"
    }
   ],
   "source": [
    "max(id0)"
   ]
  },
  {
   "cell_type": "code",
   "execution_count": 51,
   "metadata": {
    "collapsed": false
   },
   "outputs": [
    {
     "data": {
      "text/plain": [
       "id2\n",
       "0         599\n",
       "1         326\n",
       "2          88\n",
       "3         229\n",
       "4         211\n",
       "5          19\n",
       "6         185\n",
       "7          65\n",
       "8         638\n",
       "9          31\n",
       "10        120\n",
       "11         80\n",
       "12        218\n",
       "13        222\n",
       "14        456\n",
       "15       1621\n",
       "16         63\n",
       "17        363\n",
       "18         69\n",
       "19        209\n",
       "20        323\n",
       "21         92\n",
       "22        710\n",
       "23        520\n",
       "24         11\n",
       "25        419\n",
       "26         13\n",
       "27        103\n",
       "28          7\n",
       "29         69\n",
       "         ... \n",
       "80582       1\n",
       "80583       1\n",
       "80584       1\n",
       "80585       1\n",
       "80586       1\n",
       "80587       1\n",
       "80588       2\n",
       "80589       1\n",
       "80590       1\n",
       "80591       1\n",
       "80592       1\n",
       "80593       1\n",
       "80594       1\n",
       "80595       2\n",
       "80596       1\n",
       "80597       1\n",
       "80598       1\n",
       "80599       1\n",
       "80600       1\n",
       "80601       1\n",
       "80602       1\n",
       "80603       1\n",
       "80604       1\n",
       "80605       1\n",
       "80606       1\n",
       "80607       1\n",
       "80608       1\n",
       "80609       1\n",
       "80610       1\n",
       "80611       1\n",
       "dtype: int64"
      ]
     },
     "execution_count": 51,
     "metadata": {},
     "output_type": "execute_result"
    }
   ],
   "source": [
    "df.groupby('id2').size()"
   ]
  },
  {
   "cell_type": "code",
   "execution_count": 53,
   "metadata": {
    "collapsed": false
   },
   "outputs": [],
   "source": [
    "from array import *\n",
    "A = array('L', [0])"
   ]
  },
  {
   "cell_type": "code",
   "execution_count": 57,
   "metadata": {
    "collapsed": false
   },
   "outputs": [],
   "source": [
    "A.append(2)"
   ]
  },
  {
   "cell_type": "code",
   "execution_count": 58,
   "metadata": {
    "collapsed": false
   },
   "outputs": [
    {
     "data": {
      "text/plain": [
       "array('L', [0L, 2L])"
      ]
     },
     "execution_count": 58,
     "metadata": {},
     "output_type": "execute_result"
    }
   ],
   "source": [
    "A"
   ]
  },
  {
   "cell_type": "code",
   "execution_count": null,
   "metadata": {
    "collapsed": true
   },
   "outputs": [],
   "source": []
  }
 ],
 "metadata": {
  "anaconda-cloud": {},
  "kernelspec": {
   "display_name": "Python [conda root]",
   "language": "python",
   "name": "conda-root-py"
  },
  "language_info": {
   "codemirror_mode": {
    "name": "ipython",
    "version": 2
   },
   "file_extension": ".py",
   "mimetype": "text/x-python",
   "name": "python",
   "nbconvert_exporter": "python",
   "pygments_lexer": "ipython2",
   "version": "2.7.9"
  }
 },
 "nbformat": 4,
 "nbformat_minor": 1
}
