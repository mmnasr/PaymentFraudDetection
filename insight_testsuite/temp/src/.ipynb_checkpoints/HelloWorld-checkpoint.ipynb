{
 "cells": [
  {
   "cell_type": "code",
   "execution_count": 241,
   "metadata": {
    "collapsed": true
   },
   "outputs": [],
   "source": [
    "import pandas as pd\n",
    "import numpy as np\n",
    "import csv\n",
    "from array import *\n",
    "from collections import defaultdict"
   ]
  },
  {
   "cell_type": "code",
   "execution_count": 284,
   "metadata": {
    "collapsed": false
   },
   "outputs": [],
   "source": [
    "def import_data(filenamein):\n",
    "\n",
    "    id_send = array('L', [0]) # unsigned integer of 4 bytes\n",
    "    id_recv = array('L', [0]) # unsigned integer of 4 bytes\n",
    "#    id_send = []\n",
    "#    id_recv = []\n",
    "    with open(filenamein, 'rU') as f: # Universal line breaker\n",
    "        reader = csv.reader(f, delimiter=',')\n",
    "        linenumber = 1\n",
    "        try:\n",
    "            for line in reader:\n",
    "                if linenumber != 1:\n",
    "                    id1 = map(int, line[1:2])\n",
    "                    id2 = map(int, line[2:3])\n",
    "                    ids = [int(i) for i in line[1:3]]\n",
    "                    # print(ids)\n",
    "                    id_send.append(ids[0]) # id1\n",
    "                    id_recv.append(ids[1]) # id2\n",
    "                linenumber += 1\n",
    "            print(\"A total of \" + str(linenumber-2) + \" records imported.\")\n",
    "        except Exception as e:\n",
    "            print ((\"Error line %d: %s %s\" % (linenumber, str(type(e)), e.message)))\n",
    "    # drop the first elements used to initialize\n",
    "    id_send.pop(0)\n",
    "    id_recv.pop(0)\n",
    "    return id_send, id_recv"
   ]
  },
  {
   "cell_type": "code",
   "execution_count": 324,
   "metadata": {
    "collapsed": false
   },
   "outputs": [
    {
     "data": {
      "text/html": [
       "<div>\n",
       "<table border=\"1\" class=\"dataframe\">\n",
       "  <thead>\n",
       "    <tr style=\"text-align: right;\">\n",
       "      <th></th>\n",
       "      <th>time</th>\n",
       "      <th>id1</th>\n",
       "      <th>id2</th>\n",
       "    </tr>\n",
       "  </thead>\n",
       "  <tbody>\n",
       "    <tr>\n",
       "      <th>0</th>\n",
       "      <td>2016-11-02 09:49:29</td>\n",
       "      <td>52575</td>\n",
       "      <td>1120</td>\n",
       "    </tr>\n",
       "    <tr>\n",
       "      <th>1</th>\n",
       "      <td>2016-11-02 09:49:29</td>\n",
       "      <td>47424</td>\n",
       "      <td>5995</td>\n",
       "    </tr>\n",
       "    <tr>\n",
       "      <th>2</th>\n",
       "      <td>2016-11-02 09:49:29</td>\n",
       "      <td>76352</td>\n",
       "      <td>64866</td>\n",
       "    </tr>\n",
       "    <tr>\n",
       "      <th>3</th>\n",
       "      <td>2016-11-02 09:49:29</td>\n",
       "      <td>20449</td>\n",
       "      <td>1552</td>\n",
       "    </tr>\n",
       "    <tr>\n",
       "      <th>4</th>\n",
       "      <td>2016-11-02 09:49:29</td>\n",
       "      <td>48676</td>\n",
       "      <td>19395</td>\n",
       "    </tr>\n",
       "  </tbody>\n",
       "</table>\n",
       "</div>"
      ],
      "text/plain": [
       "                 time    id1    id2\n",
       "0 2016-11-02 09:49:29  52575   1120\n",
       "1 2016-11-02 09:49:29  47424   5995\n",
       "2 2016-11-02 09:49:29  76352  64866\n",
       "3 2016-11-02 09:49:29  20449   1552\n",
       "4 2016-11-02 09:49:29  48676  19395"
      ]
     },
     "execution_count": 324,
     "metadata": {},
     "output_type": "execute_result"
    }
   ],
   "source": [
    "fname = \"../paymo_input/stream_payment_polished.csv\"\n",
    "colnames = ['time', 'id1', 'id2']\n",
    "# df = pd.read_csv(fname, parse_dates=['time'], skipinitialspace=True, delimiter=' ', usecols=colnames)\n",
    "df = pd.read_csv(fname, parse_dates=['time'], skipinitialspace=True, usecols=colnames)\n",
    "df.head()    "
   ]
  },
  {
   "cell_type": "code",
   "execution_count": 309,
   "metadata": {
    "collapsed": false
   },
   "outputs": [
    {
     "name": "stdout",
     "output_type": "stream",
     "text": [
      "A total of 6 records imported.\n"
     ]
    }
   ],
   "source": [
    "#fname = \"../paymo_input/batch_payment_polished.csv\"\n",
    "fname = \"../paymo_input/test.csv\"\n",
    "id1,id2 = import_data(fname)"
   ]
  },
  {
   "cell_type": "code",
   "execution_count": 310,
   "metadata": {
    "collapsed": false
   },
   "outputs": [],
   "source": [
    "def build_graph(id_send, id_recv):\n",
    "#    g = {}\n",
    "    g = defaultdict(set)\n",
    "    for id1, id2 in zip(id_send, id_recv):\n",
    "        # g.setdefault(id1, []).append(id2)\n",
    "        # Make the graph two way, people of friends regardless of their status as sender or receiver\n",
    "        # g.setdefault(id2, []).append(id1)\n",
    "        g[id1].update([id2])\n",
    "        g[id2].update([id1])\n",
    "    return g"
   ]
  },
  {
   "cell_type": "code",
   "execution_count": null,
   "metadata": {
    "collapsed": true
   },
   "outputs": [],
   "source": [
    "def extend_graph(graph, id_send, id_recv):\n",
    "    g[id_send].update([id_recv])\n",
    "    g[id_recv].update([id_send])"
   ]
  },
  {
   "cell_type": "code",
   "execution_count": null,
   "metadata": {
    "collapsed": true
   },
   "outputs": [],
   "source": []
  },
  {
   "cell_type": "code",
   "execution_count": 311,
   "metadata": {
    "collapsed": false
   },
   "outputs": [],
   "source": [
    "graph = build_graph(id1,id2)\n",
    "# print(graph)"
   ]
  },
  {
   "cell_type": "code",
   "execution_count": null,
   "metadata": {
    "collapsed": true
   },
   "outputs": [],
   "source": [
    "def check_batch_payments(graph, id_send, id_recv):\n",
    "    output1 = warning_feature_1(graph, id_send, id_recv):\n",
    "\n"
   ]
  },
  {
   "cell_type": "code",
   "execution_count": 312,
   "metadata": {
    "collapsed": false
   },
   "outputs": [],
   "source": [
    "def warning_feature_1(graph, id_send, id_recv):\n",
    "    for id1, id2 in zip(id_send, id_recv):\n",
    "        print(id1,id2)\n",
    "        if id2 in graph[id1]: # trusted \n",
    "            print(\"trusted\")\n",
    "            return 1\n",
    "        else: # unverified\n",
    "            return 0 \n"
   ]
  },
  {
   "cell_type": "code",
   "execution_count": 313,
   "metadata": {
    "collapsed": false
   },
   "outputs": [
    {
     "name": "stdout",
     "output_type": "stream",
     "text": [
      "(52349, 8552)\n",
      "unverified\n"
     ]
    }
   ],
   "source": [
    "warning_feature_1(graph, [52349], [8552])"
   ]
  },
  {
   "cell_type": "code",
   "execution_count": 314,
   "metadata": {
    "collapsed": true
   },
   "outputs": [],
   "source": [
    "def warning_feature_2(graph, id_send, id_recv):\n",
    "    for id1, id2 in zip(id_send, id_recv):\n",
    "        print(id1,id2)\n",
    "        if id2 not in graph[id1]:\n",
    "            a = graph[id1]\n",
    "            b = graph[id2]\n",
    "            # http://stackoverflow.com/questions/3170055/test-if-lists-share-any-items-in-python\n",
    "            if any(i in graph[id1] for i in graph[id2]):\n",
    "                print(\"trusted\")\n",
    "            else:\n",
    "                print(\"unverified\")\n",
    "        else:\n",
    "            print(\"not-known\")"
   ]
  },
  {
   "cell_type": "code",
   "execution_count": 316,
   "metadata": {
    "collapsed": false
   },
   "outputs": [
    {
     "name": "stdout",
     "output_type": "stream",
     "text": [
      "(1, 3)\n",
      "trusted\n",
      "(2, 1)\n",
      "not-known\n"
     ]
    }
   ],
   "source": [
    "warning_feature_2(graph, [1,2], [3,1])"
   ]
  },
  {
   "cell_type": "code",
   "execution_count": 317,
   "metadata": {
    "collapsed": true
   },
   "outputs": [],
   "source": [
    "def bfs_paths(graph, start, goal):\n",
    "    queue = [(start, [start])]\n",
    "    while queue:\n",
    "        (vertex, path) = queue.pop(0)\n",
    "        for next in graph[vertex] - set(path):\n",
    "            if next == goal:\n",
    "                yield path + [next]\n",
    "            else:\n",
    "                queue.append((next, path + [next]))\n",
    "# list(bfs_paths(graph, 'A', 'F')) # [['A', 'C', 'F'], ['A', 'B', 'E', 'F']]\n",
    "def shortest_path(graph, start, goal):\n",
    "    try:\n",
    "        return next(bfs_paths(graph, start, goal))\n",
    "    except StopIteration:\n",
    "        return None\n",
    "# shortest_path(graph, 'A', 'F') # ['A', 'C', 'F']"
   ]
  },
  {
   "cell_type": "code",
   "execution_count": 318,
   "metadata": {
    "collapsed": true
   },
   "outputs": [],
   "source": []
  },
  {
   "cell_type": "code",
   "execution_count": 321,
   "metadata": {
    "collapsed": true
   },
   "outputs": [],
   "source": [
    "def warning_feature_3(graph, id_send, id_recv):\n",
    "    MAX_DEGREE_LENGTH = 4\n",
    "    for id1, id2 in zip(id_send, id_recv):\n",
    "        print(id1,id2)\n",
    "        if len(shortest_path(graph, id1, id2))-1 > MAX_DEGREE_LENGTH:\n",
    "            print(\"unverified\")\n",
    "        else:\n",
    "            print(\"trusted\")"
   ]
  },
  {
   "cell_type": "code",
   "execution_count": 323,
   "metadata": {
    "collapsed": false
   },
   "outputs": [
    {
     "name": "stdout",
     "output_type": "stream",
     "text": [
      "(1, 6)\n",
      "unverified\n"
     ]
    }
   ],
   "source": [
    "warning_feature_3(graph, [1], [6])"
   ]
  },
  {
   "cell_type": "code",
   "execution_count": 228,
   "metadata": {
    "collapsed": false
   },
   "outputs": [
    {
     "name": "stdout",
     "output_type": "stream",
     "text": [
      "{1: [5, 5], 2: [3], 3: [2], 5: [1, 1]}\n"
     ]
    }
   ],
   "source": [
    "print(graph)"
   ]
  },
  {
   "cell_type": "code",
   "execution_count": null,
   "metadata": {
    "collapsed": true
   },
   "outputs": [],
   "source": []
  },
  {
   "cell_type": "code",
   "execution_count": 2,
   "metadata": {
    "collapsed": true
   },
   "outputs": [],
   "source": [
    "# This function reads the csv file, fixes the problem with the line breaker and outputs it back as csv. \n",
    "# For now, let us ignore the last column (message). \n",
    "# Ideally, this could be used for to extract other features \n",
    "def preprocess_file(filenamein=\"../paymo_input/batch_payment.csv\", filenameout=\"../paymo_input/batch_payment_polished.csv\"):\n",
    "    newlines = []\n",
    "    with open(filenamein, 'rU') as f: # Universal line breaker\n",
    "        reader = csv.reader(f, delimiter=',')\n",
    "        linenumber = 1\n",
    "        try:\n",
    "            for line in reader:\n",
    "                newlines.append(line[0:4])\n",
    "                linenumber += 1\n",
    "        except Exception as e:\n",
    "            print ((\"Error line %d: %s %s\" % (linenumber, str(type(e)), e.message)))\n",
    "\n",
    "    with open(filenameout,'w') as newfile:\n",
    "        for data in newlines:\n",
    "            newfile.write(\",\".join(data) + \"\\n\")\n",
    "    print(filenameout + \" is generated successfully.\")"
   ]
  },
  {
   "cell_type": "code",
   "execution_count": null,
   "metadata": {
    "collapsed": true
   },
   "outputs": [],
   "source": []
  },
  {
   "cell_type": "code",
   "execution_count": 3,
   "metadata": {
    "collapsed": false
   },
   "outputs": [],
   "source": [
    "pre_process_input_files = False\n",
    "if pre_process_input_files:\n",
    "    preprocess_file(filenamein=\"../paymo_input/test1.csv\", filenameout=\"../paymo_input/test2.csv\")"
   ]
  },
  {
   "cell_type": "code",
   "execution_count": 98,
   "metadata": {
    "collapsed": false
   },
   "outputs": [
    {
     "data": {
      "text/html": [
       "<div>\n",
       "<table border=\"1\" class=\"dataframe\">\n",
       "  <thead>\n",
       "    <tr style=\"text-align: right;\">\n",
       "      <th></th>\n",
       "      <th>time</th>\n",
       "      <th>id1</th>\n",
       "      <th>id2</th>\n",
       "    </tr>\n",
       "  </thead>\n",
       "  <tbody>\n",
       "    <tr>\n",
       "      <th>0</th>\n",
       "      <td>2016-11-02 09:38:53</td>\n",
       "      <td>49466</td>\n",
       "      <td>6989</td>\n",
       "    </tr>\n",
       "    <tr>\n",
       "      <th>1</th>\n",
       "      <td>2016-11-02 09:38:53</td>\n",
       "      <td>52349</td>\n",
       "      <td>8552</td>\n",
       "    </tr>\n",
       "    <tr>\n",
       "      <th>2</th>\n",
       "      <td>2016-11-02 09:38:53</td>\n",
       "      <td>32639</td>\n",
       "      <td>2562</td>\n",
       "    </tr>\n",
       "    <tr>\n",
       "      <th>3</th>\n",
       "      <td>2016-11-02 09:38:53</td>\n",
       "      <td>15381</td>\n",
       "      <td>13167</td>\n",
       "    </tr>\n",
       "    <tr>\n",
       "      <th>4</th>\n",
       "      <td>2016-11-02 09:38:53</td>\n",
       "      <td>17052</td>\n",
       "      <td>6289</td>\n",
       "    </tr>\n",
       "  </tbody>\n",
       "</table>\n",
       "</div>"
      ],
      "text/plain": [
       "                 time    id1    id2\n",
       "0 2016-11-02 09:38:53  49466   6989\n",
       "1 2016-11-02 09:38:53  52349   8552\n",
       "2 2016-11-02 09:38:53  32639   2562\n",
       "3 2016-11-02 09:38:53  15381  13167\n",
       "4 2016-11-02 09:38:53  17052   6289"
      ]
     },
     "execution_count": 98,
     "metadata": {},
     "output_type": "execute_result"
    }
   ],
   "source": [
    "fname = \"../paymo_input/batch_payment_polished.csv\"\n",
    "#fname = \"../paymo_input/test.csv\"\n",
    "colnames = ['time', 'id1', 'id2']\n",
    "# df = pd.read_csv(fname, parse_dates=['time'], skipinitialspace=True, delimiter=' ', usecols=colnames)\n",
    "df = pd.read_csv(fname, parse_dates=['time'], skipinitialspace=True, usecols=colnames)\n",
    "df.head()"
   ]
  },
  {
   "cell_type": "code",
   "execution_count": 104,
   "metadata": {
    "collapsed": false
   },
   "outputs": [
    {
     "data": {
      "text/plain": [
       "numpy.ndarray"
      ]
     },
     "execution_count": 104,
     "metadata": {},
     "output_type": "execute_result"
    }
   ],
   "source": [
    "a = df.as_matrix(columns=df.columns[1:2])\n",
    "type(a)"
   ]
  },
  {
   "cell_type": "code",
   "execution_count": null,
   "metadata": {
    "collapsed": false
   },
   "outputs": [],
   "source": [
    "\n",
    "def build_graphy(df):\n",
    "    for "
   ]
  },
  {
   "cell_type": "code",
   "execution_count": null,
   "metadata": {
    "collapsed": true
   },
   "outputs": [],
   "source": []
  }
 ],
 "metadata": {
  "anaconda-cloud": {},
  "kernelspec": {
   "display_name": "Python [conda root]",
   "language": "python",
   "name": "conda-root-py"
  },
  "language_info": {
   "codemirror_mode": {
    "name": "ipython",
    "version": 2
   },
   "file_extension": ".py",
   "mimetype": "text/x-python",
   "name": "python",
   "nbconvert_exporter": "python",
   "pygments_lexer": "ipython2",
   "version": "2.7.9"
  }
 },
 "nbformat": 4,
 "nbformat_minor": 1
}
