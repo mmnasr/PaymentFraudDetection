{
 "cells": [
  {
   "cell_type": "code",
   "execution_count": 1,
   "metadata": {
    "collapsed": true
   },
   "outputs": [],
   "source": [
    "import pandas as pd\n",
    "import numpy as np\n",
    "import csv\n",
    "from array import *\n",
    "from collections import defaultdict"
   ]
  },
  {
   "cell_type": "code",
   "execution_count": 2,
   "metadata": {
    "collapsed": true
   },
   "outputs": [],
   "source": [
    "def build_graph(id_send, id_recv):\n",
    "#    g = {}\n",
    "    g = defaultdict(set)\n",
    "    for id1, id2 in zip(id_send, id_recv):\n",
    "        # g.setdefault(id1, []).append(id2)\n",
    "        # Make the graph two way, people of friends regardless of their status as sender or receiver\n",
    "        # g.setdefault(id2, []).append(id1)\n",
    "        g[id1].update([id2])\n",
    "        g[id2].update([id1])\n",
    "    return g"
   ]
  },
  {
   "cell_type": "code",
   "execution_count": 119,
   "metadata": {
    "collapsed": false
   },
   "outputs": [],
   "source": [
    "def bfs_paths(graph, start, goal):\n",
    "    MAX_L = 5\n",
    "    queue = [(start, [start])]\n",
    "    while queue:\n",
    "        (vertex, path) = queue.pop(0)\n",
    "        for next in graph[vertex] - set(path):\n",
    "            if next == goal:\n",
    "                yield path + [next]\n",
    "            else:\n",
    "                new_path = path + [next]\n",
    "                queue.append((next, new_path))\n",
    "#                queue.append((next, path + [next]))\n",
    "                print(\"queue\", queue)# , len(queue))\n",
    "                print(\"path\", new_path)# , len(queue))\n",
    "                print(len(new_path))\n",
    "                print('****************')\n",
    "                if (len(new_path) > MAX_L):\n",
    "                    print(\"goozidi\")\n",
    "                    print(new_path)\n",
    "                    print(queue, len(queue))\n",
    "                    queue.pop()\n",
    "                    # continue\n",
    "                    # queue = None\n",
    "#    print queue\n",
    "#    print path\n",
    "\n",
    "def shortest_path(graph, start, goal):\n",
    "    try:\n",
    "        return next(bfs_paths(graph, start, goal))\n",
    "    except StopIteration:\n",
    "        return None"
   ]
  },
  {
   "cell_type": "code",
   "execution_count": 120,
   "metadata": {
    "collapsed": false
   },
   "outputs": [
    {
     "name": "stdout",
     "output_type": "stream",
     "text": [
      "('queue', [(4, [5, 4])])\n",
      "('path', [5, 4])\n",
      "2\n",
      "****************\n",
      "('queue', [(4, [5, 4]), (6, [5, 6])])\n",
      "('path', [5, 6])\n",
      "2\n",
      "****************\n",
      "('queue', [(6, [5, 6]), (3, [5, 4, 3])])\n",
      "('path', [5, 4, 3])\n",
      "3\n",
      "****************\n",
      "('queue', [(2, [5, 4, 3, 2])])\n",
      "('path', [5, 4, 3, 2])\n",
      "4\n",
      "****************\n",
      "Shortest path:\n",
      "[5, 4, 3, 2, 1]\n",
      "yoyo\n"
     ]
    }
   ],
   "source": [
    "id1 =[1, 2, 3, 4, 5]#, 3, 4, 5, 6]#, 4]#, 4, 5, 6]#, 4, 5]\n",
    "id2 =[2, 3, 4, 5, 6]#, 4, 5, 6, 1]#, 1]#, 5, 6, 1]#, 4, 5, 6]\n",
    "g =  build_graph(id1, id2)\n",
    "# print(list(bfs_paths(g, 6, 4))) # [['A', 'C', 'F'], ['A', 'B', 'E', 'F']]\n",
    "sp = shortest_path(g,5, 1)\n",
    "print('Shortest path:')\n",
    "print(sp)\n",
    "if sp != None:\n",
    "    print('yoyo')\n",
    "\n"
   ]
  },
  {
   "cell_type": "code",
   "execution_count": null,
   "metadata": {
    "collapsed": false
   },
   "outputs": [],
   "source": []
  },
  {
   "cell_type": "code",
   "execution_count": 20,
   "metadata": {
    "collapsed": false
   },
   "outputs": [
    {
     "name": "stdout",
     "output_type": "stream",
     "text": [
      "('queue', [(2, [1, 2])])\n",
      "('path', [1, 2])\n",
      "2\n",
      "****************\n",
      "('queue', [(2, [1, 2]), (6, [1, 6])])\n",
      "('path', [1, 6])\n",
      "2\n",
      "****************\n",
      "('queue', [(6, [1, 6]), (3, [1, 2, 3])])\n",
      "('path', [1, 2, 3])\n",
      "3\n",
      "****************\n",
      "('queue', [(4, [1, 2, 3, 4])])\n",
      "('path', [1, 2, 3, 4])\n",
      "4\n",
      "****************\n"
     ]
    },
    {
     "data": {
      "text/plain": [
       "[[1, 6, 5], [1, 2, 3, 4, 5]]"
      ]
     },
     "execution_count": 20,
     "metadata": {},
     "output_type": "execute_result"
    }
   ],
   "source": [
    "list(bfs_paths(g, 1, 5))"
   ]
  },
  {
   "cell_type": "code",
   "execution_count": null,
   "metadata": {
    "collapsed": true
   },
   "outputs": [],
   "source": []
  }
 ],
 "metadata": {
  "kernelspec": {
   "display_name": "Python [conda root]",
   "language": "python",
   "name": "conda-root-py"
  },
  "language_info": {
   "codemirror_mode": {
    "name": "ipython",
    "version": 2
   },
   "file_extension": ".py",
   "mimetype": "text/x-python",
   "name": "python",
   "nbconvert_exporter": "python",
   "pygments_lexer": "ipython2",
   "version": "2.7.9"
  }
 },
 "nbformat": 4,
 "nbformat_minor": 1
}
