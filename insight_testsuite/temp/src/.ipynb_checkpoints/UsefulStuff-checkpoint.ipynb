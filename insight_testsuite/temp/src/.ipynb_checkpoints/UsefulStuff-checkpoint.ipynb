{
 "cells": [
  {
   "cell_type": "code",
   "execution_count": null,
   "metadata": {
    "collapsed": true
   },
   "outputs": [],
   "source": [
    "fname = \"../paymo_input/batch_payment.csv\"\n",
    "colnames = ['time', 'id1', 'id2']\n",
    "contents = open(fname, 'r', encoding='gbk')\n",
    "contents = contents.replace('\\n\\n', '\\n')\n",
    "df = pd.read_csv(StringIO(contents), skipinitialspace=True, lineterminator='\\r', usecols=colnames)"
   ]
  },
  {
   "cell_type": "markdown",
   "metadata": {},
   "source": [
    "Command from terminal to extrac the first four columns (exclude the message column). \n",
    "\n",
    "awk -F ',' '{print $1\",\" $2\",\" $3\",\" $4}' batch_payment.csv >> batch_payment_polished.csv"
   ]
  },
  {
   "cell_type": "markdown",
   "metadata": {},
   "source": [
    "https://www.topcoder.com/community/data-science/data-science-tutorials/introduction-to-graphs-and-their-data-structures-section-2/\n",
    "http://stackoverflow.com/questions/3170055/test-if-lists-share-any-items-in-python    \n",
    "http://eddmann.com/posts/depth-first-search-and-breadth-first-search-in-python/\n",
    "http://stackoverflow.com/questions/231767/what-does-the-yield-keyword-do\n",
    "http://stackoverflow.com/questions/3038661/efficiently-finding-the-shortest-path-in-large-graphs?rq=1\n",
    "https://mhesham.wordpress.com/tag/depth-limited-search/"
   ]
  },
  {
   "cell_type": "code",
   "execution_count": 21,
   "metadata": {
    "collapsed": false
   },
   "outputs": [
    {
     "data": {
      "text/plain": [
       "sys.version_info(major=2, minor=7, micro=9, releaselevel='final', serial=0)"
      ]
     },
     "execution_count": 21,
     "metadata": {},
     "output_type": "execute_result"
    }
   ],
   "source": [
    "import sys\n",
    "sys.version\n",
    "sys.version_info"
   ]
  }
 ],
 "metadata": {
  "kernelspec": {
   "display_name": "Python [conda root]",
   "language": "python",
   "name": "conda-root-py"
  },
  "language_info": {
   "codemirror_mode": {
    "name": "ipython",
    "version": 2
   },
   "file_extension": ".py",
   "mimetype": "text/x-python",
   "name": "python",
   "nbconvert_exporter": "python",
   "pygments_lexer": "ipython2",
   "version": "2.7.9"
  }
 },
 "nbformat": 4,
 "nbformat_minor": 1
}
