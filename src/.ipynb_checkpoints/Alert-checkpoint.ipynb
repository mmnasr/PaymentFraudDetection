{
 "cells": [
  {
   "cell_type": "code",
   "execution_count": 1,
   "metadata": {
    "collapsed": true
   },
   "outputs": [],
   "source": [
    "import pandas as pd\n",
    "import numpy as np\n",
    "import csv\n",
    "from array import *\n",
    "from collections import defaultdict"
   ]
  },
  {
   "cell_type": "code",
   "execution_count": 2,
   "metadata": {
    "collapsed": true
   },
   "outputs": [],
   "source": [
    "RUNTEST = 0"
   ]
  },
  {
   "cell_type": "code",
   "execution_count": 3,
   "metadata": {
    "collapsed": true
   },
   "outputs": [],
   "source": [
    "def import_data(filenamein):\n",
    "\n",
    "    id_send = array('L', [0]) # unsigned integer of 4 bytes\n",
    "    id_recv = array('L', [0]) # unsigned integer of 4 bytes\n",
    "#    id_send = []\n",
    "#    id_recv = []\n",
    "    with open(filenamein, 'rU') as f: # Universal line breaker\n",
    "        reader = csv.reader(f, delimiter=',')\n",
    "        linenumber = 1\n",
    "        try:\n",
    "            for line in reader:\n",
    "                if linenumber != 1:\n",
    "                    id1 = map(int, line[1:2])\n",
    "                    id2 = map(int, line[2:3])\n",
    "                    ids = [int(i) for i in line[1:3]]\n",
    "                    # print(ids)\n",
    "                    id_send.append(ids[0]) # id1\n",
    "                    id_recv.append(ids[1]) # id2\n",
    "                linenumber += 1\n",
    "            print(\"A total of \" + str(linenumber-2) + \" records imported.\")\n",
    "        except Exception as e:\n",
    "            print ((\"Error line %d: %s %s\" % (linenumber, str(type(e)), e.message)))\n",
    "    # drop the first elements used to initialize\n",
    "    id_send.pop(0)\n",
    "    id_recv.pop(0)\n",
    "    return id_send, id_recv"
   ]
  },
  {
   "cell_type": "code",
   "execution_count": 4,
   "metadata": {
    "collapsed": true
   },
   "outputs": [],
   "source": [
    "def build_graph(id_send, id_recv):\n",
    "#    g = {}\n",
    "    g = defaultdict(set)\n",
    "    for id1, id2 in zip(id_send, id_recv):\n",
    "        # g.setdefault(id1, []).append(id2)\n",
    "        # Make the graph two way, people of friends regardless of their status as sender or receiver\n",
    "        # g.setdefault(id2, []).append(id1)\n",
    "        g[id1].update([id2])\n",
    "        g[id2].update([id1])\n",
    "    return g\n",
    "\n",
    "def extend_graph(graph, id_send, id_recv):\n",
    "    graph[id_send].update([id_recv])\n",
    "    graph[id_recv].update([id_send])"
   ]
  },
  {
   "cell_type": "code",
   "execution_count": 5,
   "metadata": {
    "collapsed": true
   },
   "outputs": [],
   "source": [
    "def alert_feature_1(graph, id_send, id_recv):\n",
    "    if (id_recv in graph[id_send]): # trusted: friend\n",
    "#        print(\"trusted\")\n",
    "        return 1\n",
    "    return 0 # unverified"
   ]
  },
  {
   "cell_type": "code",
   "execution_count": 6,
   "metadata": {
    "collapsed": true
   },
   "outputs": [],
   "source": [
    "def alert_feature_2(graph, id_send, id_recv):\n",
    "    if any(i in graph[id_send] for i in graph[id_recv]): # (friend of a friend)\n",
    "        return 1\n",
    "    return 0"
   ]
  },
  {
   "cell_type": "code",
   "execution_count": 7,
   "metadata": {
    "collapsed": true
   },
   "outputs": [],
   "source": [
    "def alert_feature_3(graph, id_send, id_recv):\n",
    "    if bfs_paths_1(graph, id_send, id_recv):\n",
    "        return 1\n",
    "    return 0"
   ]
  },
  {
   "cell_type": "code",
   "execution_count": 8,
   "metadata": {
    "collapsed": true
   },
   "outputs": [],
   "source": [
    "def bfs_paths(graph, start, goal):\n",
    "    MAX_L = 5\n",
    "    queue = [(start, [start])]\n",
    "    while queue:\n",
    "        (vertex, path) = queue.pop(0)\n",
    "        for next in graph[vertex] - set(path):\n",
    "            if next == goal:\n",
    "                yield path + [next]\n",
    "            else:\n",
    "                new_path = path + [next]\n",
    "                queue.append((next, new_path))\n",
    "                if (len(new_path) > MAX_L):\n",
    "                    queue.pop() # remove last item added to the queue\n",
    "\n",
    "def shortest_path(graph, start, goal):\n",
    "    try:\n",
    "        return next(bfs_paths(graph, start, goal))\n",
    "    except StopIteration:\n",
    "        return None"
   ]
  },
  {
   "cell_type": "code",
   "execution_count": 9,
   "metadata": {
    "collapsed": true
   },
   "outputs": [],
   "source": [
    "def bfs_paths_1(graph, start, goal):\n",
    "    MAX_L = 5\n",
    "    queue = [(start, [start])]\n",
    "    while queue:\n",
    "        (vertex, path) = queue.pop(0)\n",
    "        for next in graph[vertex] - set(path):\n",
    "            if next == goal:\n",
    "                return path + [next]\n",
    "            else:\n",
    "                new_path = path + [next]\n",
    "                if (len(new_path) <= MAX_L):\n",
    "                    queue.append((next, new_path))"
   ]
  },
  {
   "cell_type": "code",
   "execution_count": 10,
   "metadata": {
    "collapsed": true
   },
   "outputs": [],
   "source": [
    "def convert_flag(x): \n",
    "    if x: \n",
    "        return 'trusted'\n",
    "    return 'unverified'"
   ]
  },
  {
   "cell_type": "code",
   "execution_count": 11,
   "metadata": {
    "collapsed": true
   },
   "outputs": [],
   "source": [
    "def output_flags(flags, fnames):\n",
    "    counter = 0\n",
    "    for fname in fnames:\n",
    "        flag = [row[counter] for row in flags]\n",
    "        flag = list(map(convert_flag, flag))\n",
    "        fileout = open(fname, 'w')\n",
    "        for item in flag:\n",
    "            fileout.write(\"%s\\n\" % item)\n",
    "        fileout.close()\n",
    "        print(\"Data is written to\" + fname)\n",
    "        counter += 1"
   ]
  },
  {
   "cell_type": "code",
   "execution_count": 12,
   "metadata": {
    "collapsed": false
   },
   "outputs": [
    {
     "name": "stdout",
     "output_type": "stream",
     "text": [
      "A total of 3938360 records imported.\n"
     ]
    }
   ],
   "source": [
    "fname = \"../paymo_input/batch_payment_polished.csv\"\n",
    "if RUNTEST:\n",
    "    fname = \"../paymo_input/test.csv\"\n",
    "id1_0,id2_0 = import_data(fname)"
   ]
  },
  {
   "cell_type": "code",
   "execution_count": 13,
   "metadata": {
    "collapsed": true
   },
   "outputs": [],
   "source": [
    "graph = build_graph(id1_0, id2_0)"
   ]
  },
  {
   "cell_type": "code",
   "execution_count": 16,
   "metadata": {
    "collapsed": false
   },
   "outputs": [],
   "source": [
    "#lens = []\n",
    "#for key,val in graph.iteritems():\n",
    "#    if len(val) == 242:\n",
    "#        print(\"key %d\" % key)\n",
    "#        print(graph[key])\n",
    "#    lens.append(len(val))\n",
    "#print lens"
   ]
  },
  {
   "cell_type": "code",
   "execution_count": 14,
   "metadata": {
    "collapsed": false
   },
   "outputs": [
    {
     "name": "stdout",
     "output_type": "stream",
     "text": [
      "A total of 3000000 records imported.\n"
     ]
    }
   ],
   "source": [
    "fname = \"../paymo_input/stream_payment_polished.csv\"\n",
    "#fname = \"../paymo_input/stream100000.csv\"\n",
    "if RUNTEST:\n",
    "    fname = \"../paymo_input/test2.csv\"\n",
    "id1_stream,id2_stream = import_data(fname)"
   ]
  },
  {
   "cell_type": "code",
   "execution_count": 22,
   "metadata": {
    "collapsed": false,
    "scrolled": false
   },
   "outputs": [
    {
     "ename": "KeyboardInterrupt",
     "evalue": "",
     "output_type": "error",
     "traceback": [
      "\u001b[0;31m---------------------------------------------------------------------------\u001b[0m",
      "\u001b[0;31mKeyboardInterrupt\u001b[0m                         Traceback (most recent call last)",
      "\u001b[0;32m<ipython-input-22-e9cbbbe8edac>\u001b[0m in \u001b[0;36m<module>\u001b[0;34m()\u001b[0m\n\u001b[1;32m     22\u001b[0m         \u001b[0;32melse\u001b[0m\u001b[0;34m:\u001b[0m\u001b[0;34m\u001b[0m\u001b[0m\n\u001b[1;32m     23\u001b[0m \u001b[0;31m#            print(\"flag3-b\")\u001b[0m\u001b[0;34m\u001b[0m\u001b[0;34m\u001b[0m\u001b[0m\n\u001b[0;32m---> 24\u001b[0;31m             \u001b[0mflag3\u001b[0m \u001b[0;34m=\u001b[0m \u001b[0malert_feature_3\u001b[0m\u001b[0;34m(\u001b[0m\u001b[0mgraph\u001b[0m\u001b[0;34m,\u001b[0m \u001b[0mid1\u001b[0m\u001b[0;34m,\u001b[0m \u001b[0mid2\u001b[0m\u001b[0;34m)\u001b[0m\u001b[0;34m\u001b[0m\u001b[0m\n\u001b[0m\u001b[1;32m     25\u001b[0m \u001b[0;31m#            print(\"flag3-a\")\u001b[0m\u001b[0;34m\u001b[0m\u001b[0;34m\u001b[0m\u001b[0m\n\u001b[1;32m     26\u001b[0m             \u001b[0mfg3\u001b[0m \u001b[0;34m+=\u001b[0m \u001b[0;36m1\u001b[0m\u001b[0;34m\u001b[0m\u001b[0m\n",
      "\u001b[0;32m<ipython-input-15-4a8f1428f956>\u001b[0m in \u001b[0;36malert_feature_3\u001b[0;34m(graph, id_send, id_recv)\u001b[0m\n\u001b[1;32m      1\u001b[0m \u001b[0;32mdef\u001b[0m \u001b[0malert_feature_3\u001b[0m\u001b[0;34m(\u001b[0m\u001b[0mgraph\u001b[0m\u001b[0;34m,\u001b[0m \u001b[0mid_send\u001b[0m\u001b[0;34m,\u001b[0m \u001b[0mid_recv\u001b[0m\u001b[0;34m)\u001b[0m\u001b[0;34m:\u001b[0m\u001b[0;34m\u001b[0m\u001b[0m\n\u001b[0;32m----> 2\u001b[0;31m     \u001b[0;32mif\u001b[0m \u001b[0mbfs_paths_1\u001b[0m\u001b[0;34m(\u001b[0m\u001b[0mgraph\u001b[0m\u001b[0;34m,\u001b[0m \u001b[0mid_send\u001b[0m\u001b[0;34m,\u001b[0m \u001b[0mid_recv\u001b[0m\u001b[0;34m)\u001b[0m\u001b[0;34m:\u001b[0m\u001b[0;34m\u001b[0m\u001b[0m\n\u001b[0m\u001b[1;32m      3\u001b[0m         \u001b[0;32mreturn\u001b[0m \u001b[0;36m1\u001b[0m\u001b[0;34m\u001b[0m\u001b[0m\n\u001b[1;32m      4\u001b[0m     \u001b[0;32mreturn\u001b[0m \u001b[0;36m0\u001b[0m\u001b[0;34m\u001b[0m\u001b[0m\n",
      "\u001b[0;32m<ipython-input-16-6680a64e454c>\u001b[0m in \u001b[0;36mbfs_paths_1\u001b[0;34m(graph, start, goal)\u001b[0m\n\u001b[1;32m      3\u001b[0m     \u001b[0mqueue\u001b[0m \u001b[0;34m=\u001b[0m \u001b[0;34m[\u001b[0m\u001b[0;34m(\u001b[0m\u001b[0mstart\u001b[0m\u001b[0;34m,\u001b[0m \u001b[0;34m[\u001b[0m\u001b[0mstart\u001b[0m\u001b[0;34m]\u001b[0m\u001b[0;34m)\u001b[0m\u001b[0;34m]\u001b[0m\u001b[0;34m\u001b[0m\u001b[0m\n\u001b[1;32m      4\u001b[0m     \u001b[0;32mwhile\u001b[0m \u001b[0mqueue\u001b[0m\u001b[0;34m:\u001b[0m\u001b[0;34m\u001b[0m\u001b[0m\n\u001b[0;32m----> 5\u001b[0;31m         \u001b[0;34m(\u001b[0m\u001b[0mvertex\u001b[0m\u001b[0;34m,\u001b[0m \u001b[0mpath\u001b[0m\u001b[0;34m)\u001b[0m \u001b[0;34m=\u001b[0m \u001b[0mqueue\u001b[0m\u001b[0;34m.\u001b[0m\u001b[0mpop\u001b[0m\u001b[0;34m(\u001b[0m\u001b[0;36m0\u001b[0m\u001b[0;34m)\u001b[0m\u001b[0;34m\u001b[0m\u001b[0m\n\u001b[0m\u001b[1;32m      6\u001b[0m         \u001b[0;32mfor\u001b[0m \u001b[0mnext\u001b[0m \u001b[0;32min\u001b[0m \u001b[0mgraph\u001b[0m\u001b[0;34m[\u001b[0m\u001b[0mvertex\u001b[0m\u001b[0;34m]\u001b[0m \u001b[0;34m-\u001b[0m \u001b[0mset\u001b[0m\u001b[0;34m(\u001b[0m\u001b[0mpath\u001b[0m\u001b[0;34m)\u001b[0m\u001b[0;34m:\u001b[0m\u001b[0;34m\u001b[0m\u001b[0m\n\u001b[1;32m      7\u001b[0m             \u001b[0;32mif\u001b[0m \u001b[0mnext\u001b[0m \u001b[0;34m==\u001b[0m \u001b[0mgoal\u001b[0m\u001b[0;34m:\u001b[0m\u001b[0;34m\u001b[0m\u001b[0m\n",
      "\u001b[0;31mKeyboardInterrupt\u001b[0m: "
     ]
    }
   ],
   "source": [
    "flags = []\n",
    "fnames = ['../paymo_output/output1.txt', '../paymo_output/output2.txt', '../paymo_output/output3.txt']\n",
    "counter = 0\n",
    "fg2 = 0\n",
    "fg3 = 0\n",
    "for id1, id2 in zip(id1_stream, id2_stream):\n",
    "    \n",
    "#    print(id1,id2)\n",
    "#    print(\"flag1-b\")\n",
    "    flag1 = alert_feature_1(graph, id1, id2)\n",
    "#    print(\"flag1-a\")\n",
    "    if flag1:\n",
    "        flag2, flag3 = 1, 1\n",
    "    else:\n",
    "#        print(\"flag2-b\")\n",
    "        flag2 = alert_feature_2(graph, id1, id2)\n",
    "#        print(\"flag2-a\")\n",
    "\n",
    "        fg2 += 1\n",
    "        if flag2:\n",
    "            flag3 = 1\n",
    "        else:\n",
    "#            print(\"flag3-b\")\n",
    "            flag3 = alert_feature_3(graph, id1, id2)\n",
    "#            print(\"flag3-a\")\n",
    "            fg3 += 1\n",
    "\n",
    "    extend_graph(graph, id1, id2)\n",
    "    flags.append([flag1, flag2, flag3])\n",
    "    counter += 1\n",
    "    if (counter % 50 == 0):\n",
    "        print(counter)\n",
    "\n",
    "print(\"flag 2: \" + str(fg2))\n",
    "print(\"flag 3: \" + str(fg3))\n",
    "\n",
    "print(\"Writing output to files...\")\n",
    "output_flags(flags, fnames)"
   ]
  },
  {
   "cell_type": "code",
   "execution_count": 19,
   "metadata": {
    "collapsed": false
   },
   "outputs": [
    {
     "name": "stdout",
     "output_type": "stream",
     "text": [
      "[[0, 1, 1], [0, 0, 1], [1, 1, 1], [1, 1, 1], [0, 0, 0], [0, 0, 0]]\n"
     ]
    }
   ],
   "source": [
    "print(flags)"
   ]
  },
  {
   "cell_type": "code",
   "execution_count": 20,
   "metadata": {
    "collapsed": false
   },
   "outputs": [
    {
     "name": "stdout",
     "output_type": "stream",
     "text": [
      "[[0, 1, 1], [0, 0, 1], [1, 1, 1], [1, 1, 1], [0, 0, 0], [0, 0, 0]]\n"
     ]
    }
   ],
   "source": [
    "print(flags)"
   ]
  },
  {
   "cell_type": "code",
   "execution_count": 16,
   "metadata": {
    "collapsed": false
   },
   "outputs": [
    {
     "data": {
      "text/plain": [
       "False"
      ]
     },
     "execution_count": 16,
     "metadata": {},
     "output_type": "execute_result"
    }
   ],
   "source": [
    "a = [0, 1, 2, 3]\n",
    "b = [4, 1, 6]\n",
    "set(a).isdisjoint(b)"
   ]
  },
  {
   "cell_type": "code",
   "execution_count": null,
   "metadata": {
    "collapsed": true
   },
   "outputs": [],
   "source": []
  }
 ],
 "metadata": {
  "anaconda-cloud": {},
  "kernelspec": {
   "display_name": "Python [conda root]",
   "language": "python",
   "name": "conda-root-py"
  },
  "language_info": {
   "codemirror_mode": {
    "name": "ipython",
    "version": 2
   },
   "file_extension": ".py",
   "mimetype": "text/x-python",
   "name": "python",
   "nbconvert_exporter": "python",
   "pygments_lexer": "ipython2",
   "version": "2.7.9"
  }
 },
 "nbformat": 4,
 "nbformat_minor": 1
}
