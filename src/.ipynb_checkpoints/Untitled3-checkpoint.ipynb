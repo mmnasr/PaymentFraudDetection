{
 "cells": [
  {
   "cell_type": "code",
   "execution_count": null,
   "metadata": {
    "collapsed": true
   },
   "outputs": [],
   "source": [
    "import pandas as pd\n",
    "import numpy as np\n",
    "import csv\n",
    "from array import *\n",
    "from collections import defaultdict\n",
    "\n",
    "def import_data(filenamein):\n",
    "\n",
    "    id_send = array('L', [0]) # unsigned integer of 4 bytes\n",
    "    id_recv = array('L', [0]) # unsigned integer of 4 bytes\n",
    "#    id_send = []\n",
    "#    id_recv = []\n",
    "    with open(filenamein, 'rU') as f: # Universal line breaker\n",
    "        reader = csv.reader(f, delimiter=',')\n",
    "        linenumber = 1\n",
    "        try:\n",
    "            for line in reader:\n",
    "                if linenumber != 1:\n",
    "                    id1 = map(int, line[1:2])\n",
    "                    id2 = map(int, line[2:3])\n",
    "                    ids = [int(i) for i in line[1:3]]\n",
    "                    # print(ids)\n",
    "                    id_send.append(ids[0]) # id1\n",
    "                    id_recv.append(ids[1]) # id2\n",
    "                linenumber += 1\n",
    "            print(\"A total of \" + str(linenumber-2) + \" records imported.\")\n",
    "        except Exception as e:\n",
    "            print ((\"Error line %d: %s %s\" % (linenumber, str(type(e)), e.message)))\n",
    "    # drop the first elements used to initialize\n",
    "    id_send.pop(0)\n",
    "    id_recv.pop(0)\n",
    "    return id_send, id_recv\n",
    "\n"
   ]
  }
 ],
 "metadata": {
  "kernelspec": {
   "display_name": "Python [conda root]",
   "language": "python",
   "name": "conda-root-py"
  },
  "language_info": {
   "codemirror_mode": {
    "name": "ipython",
    "version": 2
   },
   "file_extension": ".py",
   "mimetype": "text/x-python",
   "name": "python",
   "nbconvert_exporter": "python",
   "pygments_lexer": "ipython2",
   "version": "2.7.9"
  }
 },
 "nbformat": 4,
 "nbformat_minor": 1
}
